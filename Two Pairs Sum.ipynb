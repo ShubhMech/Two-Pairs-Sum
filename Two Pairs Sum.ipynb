{
 "cells": [
  {
   "cell_type": "code",
   "execution_count": 4,
   "id": "104db968-5656-44c8-ab13-6a2d512a8429",
   "metadata": {},
   "outputs": [
    {
     "data": {
      "text/plain": [
       "[(3, 6), (4, 5)]"
      ]
     },
     "execution_count": 4,
     "metadata": {},
     "output_type": "execute_result"
    }
   ],
   "source": [
    "def two_pairs(n, sum_):\n",
    "    pairs= list()\n",
    "    for i in range(len(n)):\n",
    "        for j in range(i+1, len(n)):\n",
    "            if sum_== n[i]+n[j]:\n",
    "                pairs.append((n[i], n[j]))\n",
    "    return pairs\n",
    "                    \n",
    "two_pairs([1,2,3,4,5,6],9)    "
   ]
  },
  {
   "cell_type": "code",
   "execution_count": null,
   "id": "3228334f-fada-4193-b89c-853a770eca1a",
   "metadata": {},
   "outputs": [],
   "source": []
  },
  {
   "cell_type": "markdown",
   "id": "89e1cf79-c721-4695-938b-f95f8c948c0a",
   "metadata": {},
   "source": []
  },
  {
   "cell_type": "code",
   "execution_count": null,
   "id": "8783e58e-9d95-44ee-83cb-4f45e82d2f56",
   "metadata": {},
   "outputs": [],
   "source": []
  }
 ],
 "metadata": {
  "kernelspec": {
   "display_name": "Python 3",
   "language": "python",
   "name": "python3"
  },
  "language_info": {
   "codemirror_mode": {
    "name": "ipython",
    "version": 3
   },
   "file_extension": ".py",
   "mimetype": "text/x-python",
   "name": "python",
   "nbconvert_exporter": "python",
   "pygments_lexer": "ipython3",
   "version": "3.8.5"
  }
 },
 "nbformat": 4,
 "nbformat_minor": 5
}
